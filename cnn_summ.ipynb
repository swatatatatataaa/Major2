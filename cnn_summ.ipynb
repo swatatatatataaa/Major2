{
  "nbformat": 4,
  "nbformat_minor": 0,
  "metadata": {
    "colab": {
      "provenance": [],
      "gpuType": "T4"
    },
    "kernelspec": {
      "name": "python3",
      "display_name": "Python 3"
    },
    "language_info": {
      "name": "python"
    },
    "accelerator": "GPU"
  },
  "cells": [
    {
      "cell_type": "code",
      "execution_count": 1,
      "metadata": {
        "colab": {
          "base_uri": "https://localhost:8080/"
        },
        "id": "fuK7iJn-eN-M",
        "outputId": "60501e2e-c5ce-40cc-db1f-595648d21ee2"
      },
      "outputs": [
        {
          "output_type": "stream",
          "name": "stdout",
          "text": [
            "Requirement already satisfied: langchain_community in /usr/local/lib/python3.11/dist-packages (0.3.21)\n",
            "Requirement already satisfied: transformers in /usr/local/lib/python3.11/dist-packages (4.51.3)\n",
            "Requirement already satisfied: pypdf in /usr/local/lib/python3.11/dist-packages (5.4.0)\n",
            "Requirement already satisfied: langchain-core<1.0.0,>=0.3.51 in /usr/local/lib/python3.11/dist-packages (from langchain_community) (0.3.52)\n",
            "Requirement already satisfied: langchain<1.0.0,>=0.3.23 in /usr/local/lib/python3.11/dist-packages (from langchain_community) (0.3.23)\n",
            "Requirement already satisfied: SQLAlchemy<3,>=1.4 in /usr/local/lib/python3.11/dist-packages (from langchain_community) (2.0.40)\n",
            "Requirement already satisfied: requests<3,>=2 in /usr/local/lib/python3.11/dist-packages (from langchain_community) (2.32.3)\n",
            "Requirement already satisfied: PyYAML>=5.3 in /usr/local/lib/python3.11/dist-packages (from langchain_community) (6.0.2)\n",
            "Requirement already satisfied: aiohttp<4.0.0,>=3.8.3 in /usr/local/lib/python3.11/dist-packages (from langchain_community) (3.11.15)\n",
            "Requirement already satisfied: tenacity!=8.4.0,<10,>=8.1.0 in /usr/local/lib/python3.11/dist-packages (from langchain_community) (9.1.2)\n",
            "Requirement already satisfied: dataclasses-json<0.7,>=0.5.7 in /usr/local/lib/python3.11/dist-packages (from langchain_community) (0.6.7)\n",
            "Requirement already satisfied: pydantic-settings<3.0.0,>=2.4.0 in /usr/local/lib/python3.11/dist-packages (from langchain_community) (2.9.1)\n",
            "Requirement already satisfied: langsmith<0.4,>=0.1.125 in /usr/local/lib/python3.11/dist-packages (from langchain_community) (0.3.31)\n",
            "Requirement already satisfied: httpx-sse<1.0.0,>=0.4.0 in /usr/local/lib/python3.11/dist-packages (from langchain_community) (0.4.0)\n",
            "Requirement already satisfied: numpy<3,>=1.26.2 in /usr/local/lib/python3.11/dist-packages (from langchain_community) (2.0.2)\n",
            "Requirement already satisfied: filelock in /usr/local/lib/python3.11/dist-packages (from transformers) (3.18.0)\n",
            "Requirement already satisfied: huggingface-hub<1.0,>=0.30.0 in /usr/local/lib/python3.11/dist-packages (from transformers) (0.30.2)\n",
            "Requirement already satisfied: packaging>=20.0 in /usr/local/lib/python3.11/dist-packages (from transformers) (24.2)\n",
            "Requirement already satisfied: regex!=2019.12.17 in /usr/local/lib/python3.11/dist-packages (from transformers) (2024.11.6)\n",
            "Requirement already satisfied: tokenizers<0.22,>=0.21 in /usr/local/lib/python3.11/dist-packages (from transformers) (0.21.1)\n",
            "Requirement already satisfied: safetensors>=0.4.3 in /usr/local/lib/python3.11/dist-packages (from transformers) (0.5.3)\n",
            "Requirement already satisfied: tqdm>=4.27 in /usr/local/lib/python3.11/dist-packages (from transformers) (4.67.1)\n",
            "Requirement already satisfied: aiohappyeyeballs>=2.3.0 in /usr/local/lib/python3.11/dist-packages (from aiohttp<4.0.0,>=3.8.3->langchain_community) (2.6.1)\n",
            "Requirement already satisfied: aiosignal>=1.1.2 in /usr/local/lib/python3.11/dist-packages (from aiohttp<4.0.0,>=3.8.3->langchain_community) (1.3.2)\n",
            "Requirement already satisfied: attrs>=17.3.0 in /usr/local/lib/python3.11/dist-packages (from aiohttp<4.0.0,>=3.8.3->langchain_community) (25.3.0)\n",
            "Requirement already satisfied: frozenlist>=1.1.1 in /usr/local/lib/python3.11/dist-packages (from aiohttp<4.0.0,>=3.8.3->langchain_community) (1.5.0)\n",
            "Requirement already satisfied: multidict<7.0,>=4.5 in /usr/local/lib/python3.11/dist-packages (from aiohttp<4.0.0,>=3.8.3->langchain_community) (6.4.3)\n",
            "Requirement already satisfied: propcache>=0.2.0 in /usr/local/lib/python3.11/dist-packages (from aiohttp<4.0.0,>=3.8.3->langchain_community) (0.3.1)\n",
            "Requirement already satisfied: yarl<2.0,>=1.17.0 in /usr/local/lib/python3.11/dist-packages (from aiohttp<4.0.0,>=3.8.3->langchain_community) (1.19.0)\n",
            "Requirement already satisfied: marshmallow<4.0.0,>=3.18.0 in /usr/local/lib/python3.11/dist-packages (from dataclasses-json<0.7,>=0.5.7->langchain_community) (3.26.1)\n",
            "Requirement already satisfied: typing-inspect<1,>=0.4.0 in /usr/local/lib/python3.11/dist-packages (from dataclasses-json<0.7,>=0.5.7->langchain_community) (0.9.0)\n",
            "Requirement already satisfied: fsspec>=2023.5.0 in /usr/local/lib/python3.11/dist-packages (from huggingface-hub<1.0,>=0.30.0->transformers) (2025.3.2)\n",
            "Requirement already satisfied: typing-extensions>=3.7.4.3 in /usr/local/lib/python3.11/dist-packages (from huggingface-hub<1.0,>=0.30.0->transformers) (4.13.2)\n",
            "Requirement already satisfied: langchain-text-splitters<1.0.0,>=0.3.8 in /usr/local/lib/python3.11/dist-packages (from langchain<1.0.0,>=0.3.23->langchain_community) (0.3.8)\n",
            "Requirement already satisfied: pydantic<3.0.0,>=2.7.4 in /usr/local/lib/python3.11/dist-packages (from langchain<1.0.0,>=0.3.23->langchain_community) (2.11.3)\n",
            "Requirement already satisfied: jsonpatch<2.0,>=1.33 in /usr/local/lib/python3.11/dist-packages (from langchain-core<1.0.0,>=0.3.51->langchain_community) (1.33)\n",
            "Requirement already satisfied: httpx<1,>=0.23.0 in /usr/local/lib/python3.11/dist-packages (from langsmith<0.4,>=0.1.125->langchain_community) (0.28.1)\n",
            "Requirement already satisfied: orjson<4.0.0,>=3.9.14 in /usr/local/lib/python3.11/dist-packages (from langsmith<0.4,>=0.1.125->langchain_community) (3.10.16)\n",
            "Requirement already satisfied: requests-toolbelt<2.0.0,>=1.0.0 in /usr/local/lib/python3.11/dist-packages (from langsmith<0.4,>=0.1.125->langchain_community) (1.0.0)\n",
            "Requirement already satisfied: zstandard<0.24.0,>=0.23.0 in /usr/local/lib/python3.11/dist-packages (from langsmith<0.4,>=0.1.125->langchain_community) (0.23.0)\n",
            "Requirement already satisfied: python-dotenv>=0.21.0 in /usr/local/lib/python3.11/dist-packages (from pydantic-settings<3.0.0,>=2.4.0->langchain_community) (1.1.0)\n",
            "Requirement already satisfied: typing-inspection>=0.4.0 in /usr/local/lib/python3.11/dist-packages (from pydantic-settings<3.0.0,>=2.4.0->langchain_community) (0.4.0)\n",
            "Requirement already satisfied: charset-normalizer<4,>=2 in /usr/local/lib/python3.11/dist-packages (from requests<3,>=2->langchain_community) (3.4.1)\n",
            "Requirement already satisfied: idna<4,>=2.5 in /usr/local/lib/python3.11/dist-packages (from requests<3,>=2->langchain_community) (3.10)\n",
            "Requirement already satisfied: urllib3<3,>=1.21.1 in /usr/local/lib/python3.11/dist-packages (from requests<3,>=2->langchain_community) (2.3.0)\n",
            "Requirement already satisfied: certifi>=2017.4.17 in /usr/local/lib/python3.11/dist-packages (from requests<3,>=2->langchain_community) (2025.1.31)\n",
            "Requirement already satisfied: greenlet>=1 in /usr/local/lib/python3.11/dist-packages (from SQLAlchemy<3,>=1.4->langchain_community) (3.2.0)\n",
            "Requirement already satisfied: anyio in /usr/local/lib/python3.11/dist-packages (from httpx<1,>=0.23.0->langsmith<0.4,>=0.1.125->langchain_community) (4.9.0)\n",
            "Requirement already satisfied: httpcore==1.* in /usr/local/lib/python3.11/dist-packages (from httpx<1,>=0.23.0->langsmith<0.4,>=0.1.125->langchain_community) (1.0.8)\n",
            "Requirement already satisfied: h11<0.15,>=0.13 in /usr/local/lib/python3.11/dist-packages (from httpcore==1.*->httpx<1,>=0.23.0->langsmith<0.4,>=0.1.125->langchain_community) (0.14.0)\n",
            "Requirement already satisfied: jsonpointer>=1.9 in /usr/local/lib/python3.11/dist-packages (from jsonpatch<2.0,>=1.33->langchain-core<1.0.0,>=0.3.51->langchain_community) (3.0.0)\n",
            "Requirement already satisfied: annotated-types>=0.6.0 in /usr/local/lib/python3.11/dist-packages (from pydantic<3.0.0,>=2.7.4->langchain<1.0.0,>=0.3.23->langchain_community) (0.7.0)\n",
            "Requirement already satisfied: pydantic-core==2.33.1 in /usr/local/lib/python3.11/dist-packages (from pydantic<3.0.0,>=2.7.4->langchain<1.0.0,>=0.3.23->langchain_community) (2.33.1)\n",
            "Requirement already satisfied: mypy-extensions>=0.3.0 in /usr/local/lib/python3.11/dist-packages (from typing-inspect<1,>=0.4.0->dataclasses-json<0.7,>=0.5.7->langchain_community) (1.0.0)\n",
            "Requirement already satisfied: sniffio>=1.1 in /usr/local/lib/python3.11/dist-packages (from anyio->httpx<1,>=0.23.0->langsmith<0.4,>=0.1.125->langchain_community) (1.3.1)\n"
          ]
        }
      ],
      "source": [
        "!pip install langchain_community transformers pypdf"
      ]
    },
    {
      "cell_type": "code",
      "source": [
        "from google.colab import drive\n",
        "drive.mount(\"/content/drive\", force_remount=True)"
      ],
      "metadata": {
        "colab": {
          "base_uri": "https://localhost:8080/"
        },
        "id": "4OthChmZehY8",
        "outputId": "64ba4049-4c4b-408c-ba97-360f235bffc7"
      },
      "execution_count": 2,
      "outputs": [
        {
          "output_type": "stream",
          "name": "stdout",
          "text": [
            "Mounted at /content/drive\n"
          ]
        }
      ]
    },
    {
      "cell_type": "code",
      "source": [
        "from langchain.document_loaders import PyPDFLoader\n",
        "from langchain.text_splitter import RecursiveCharacterTextSplitter\n",
        "from transformers import BartForConditionalGeneration, BartTokenizer, pipeline\n",
        "\n",
        "# Load saved model from Drive\n",
        "model_path = \"/content/drive/MyDrive/cnn-summ\"\n",
        "model = BartForConditionalGeneration.from_pretrained(model_path)\n",
        "tokenizer = BartTokenizer.from_pretrained(model_path)\n",
        "summarizer = pipeline(\"summarization\", model=model, tokenizer=tokenizer)\n"
      ],
      "metadata": {
        "colab": {
          "base_uri": "https://localhost:8080/"
        },
        "id": "45MjvM8NepQW",
        "outputId": "4357be12-87ed-488e-80c2-ee7da0c46752"
      },
      "execution_count": 3,
      "outputs": [
        {
          "output_type": "stream",
          "name": "stderr",
          "text": [
            "Device set to use cuda:0\n"
          ]
        }
      ]
    },
    {
      "cell_type": "code",
      "source": [
        "# Load and split PDF\n",
        "def extract_pdf_chunks(file_path):\n",
        "    loader = PyPDFLoader(file_path)\n",
        "    pages = loader.load()\n",
        "\n",
        "    text_splitter = RecursiveCharacterTextSplitter(chunk_size=1000, chunk_overlap=100)\n",
        "    chunks = text_splitter.split_documents(pages)\n",
        "\n",
        "    return [chunk.page_content for chunk in chunks]\n"
      ],
      "metadata": {
        "id": "qwnXpJlHe6J4"
      },
      "execution_count": 4,
      "outputs": []
    },
    {
      "cell_type": "code",
      "source": [
        "# Summarize each chunk and combine\n",
        "def summarize_large_pdf(file_path):\n",
        "    chunks = extract_pdf_chunks(file_path)\n",
        "    all_summaries = []\n",
        "\n",
        "    for i, chunk in enumerate(chunks):\n",
        "        try:\n",
        "            input_length = len(tokenizer.encode(chunk))\n",
        "            max_len = max(30, input_length // 3)\n",
        "\n",
        "            summary = summarizer(chunk, max_length=max_len, min_length=15, do_sample=False)\n",
        "\n",
        "            all_summaries.append(summary[0]['summary_text'])\n",
        "        except Exception as e:\n",
        "            print(f\"Error summarizing chunk {i}: {e}\")\n",
        "\n",
        "    return \" \".join(all_summaries)\n"
      ],
      "metadata": {
        "id": "ajVvieB8iI-l"
      },
      "execution_count": 14,
      "outputs": []
    },
    {
      "cell_type": "code",
      "source": [
        "# Example usage\n",
        "pdf_path = \"/content/drive/MyDrive/environment.pdf\"\n",
        "final_summary = summarize_large_pdf(pdf_path)\n",
        "print(\"Final Summary:\\n\", final_summary)"
      ],
      "metadata": {
        "colab": {
          "base_uri": "https://localhost:8080/"
        },
        "id": "fE2oCWpNik93",
        "outputId": "396edc0a-cd1c-4438-cd24-fc635f593342"
      },
      "execution_count": 15,
      "outputs": [
        {
          "output_type": "stream",
          "name": "stderr",
          "text": [
            "Your max_length is set to 30, but your input_length is only 8. Since this is a summarization task, where outputs shorter than the input are typically wanted, you might consider decreasing max_length manually, e.g. summarizer('...', max_length=4)\n"
          ]
        },
        {
          "output_type": "stream",
          "name": "stdout",
          "text": [
            "Final Summary:\n",
            " Environment means different things to different people. To some it means home: to others it may refer to a village, a city a country or the  whole world. It is formed by combining two words, viz. ‘environ’ and ‘ment’ meaning ‘encircle’ or ‘all round’ Environmental studies discipline has multiple and multilevel scopes. This study is important and necessary not only for children but also foe everyone: literate or illiterate. Environmental study is based upon a comprehensive view of various environmental systems. To know the necessity of conservation of natural resources is important. World population is increasing at an alarming rate especially in developing countries. Resources are over-exploited and there is no foresight of leaving the resources to the future. Education and training are needed to save the biodiversity and species extinction. The United Nations Conference on Environment and Development held at Reo de Janeiro in 1992 (popularly known as ‘Earth Summit ‟) and world summit on sustainable development at Johannesburg in 2002, have highlighted the key issues of global environmental concern. Eg. Recent report of „centre for science and environment‟ on permissible limits of pesticides in                 cola drinks. Public awareness is needed in the area. Eg. Pond, lake, desert, grassland, forest, etc. that interact to form a stable self supporting system. Ecology – earnest Haeckal- 1869 –derived from “oikos ‟ – home , logy – study-deals with organisms in their natural home interacting with their surroundings. ECOSYSTEMS – self regulating group of biotic communities of species interacting  with one another and with their non- living environment exchanging energy and matter. Abiotic components are as follows. Atmosphere – The cover of air that envelopes the earth is known as atmosphere. Compostion – Nitrogen-78%, oxygen- 2%, other gases- 1%. Lithosphere or Interior of Earth – Solid Earth – radius 6371- density -5.5. Hydrosphere – 97% earth is water is in oceans fresh water-3%. Earth's atmosphere maintains heat balance on the earth by absorbing IR radiation. Crust – top most layer- solid thickness 30 – 40 Km in continents and 5– 6 km in oceans. Mantle – average density 3.3 – Thickness – 2860 – density increases with depth. Producers – Photosynthesis – photoautotroph (auto – self, photo- light) Chemosynthetic organisms – Chemicals. Consumers – feeding upon other organisms. Herbivores – Plant eating animals – primary consumers. CNN.com will feature iReporter photos in a weekly Travel Snapshots gallery. Visit CNN.com/Travel each week for a Food chain, Food web and trophic structure. Energy flow. Cycling of Nutrients. Primary and secondary production. Ecosystem development programme. The flow of energy in an ecosystem is unidirectional. It flows from producer level to consumer level and never in the reverse direction. About 80% of energy is lost during flow from one trophic level to the next one. The food relationship between various organisms is being depicted by linking all the possible prey and predators of different food level. In a linear food chains, if one species gets affected or becomes extinct, then the species in the subsequent trophic levels are also affected. But, in a food web, ifone species get affected, it does not affect other tropic levels so seriously. The energy biomass and number of organisms gradually decreases from the The graphical represen tation of the number, biomass and energy of various energy levels is called ecological pyramid. In any ecological pyramid the producer forms the base and the successive  levels form the tires which can make the apex. The ecological pyramids represent the tr opic structure and also tropic function of the ecosystem. The grassland ecosystem provides a typical example for pyramid of number. transferred or use of energy by the groups involved. Pyramid of biomass indicates decrease of biomass in each tropical level from base to apex. The pyramid of energy is constructed is the quantity of organisms produced per unit time. The total biomass of the producers ingested by herbivores is more than the total biomass of the herbivore. In an area one community may be replaced by another community or by a series of communities. The progressive replacement of one community by another till the development of stable communities is called ecological succession. Process of Ecological Succession. Nudation: It is the development of a bare area without any life form. Invasion: The establishment of one or more species. A forest is a natural ecosystem consisting of dense growth of trees and wild animals. It leads to stable community, which is in equilibrium with the environment. Characteristics: Abiotic: soil, sun light, temperature etc Biotic: forest trees, shrubs and animals. Abiotic components are physical components present in soil & atmosphere. Tropical grass lands found near the boarders of tropical rain forests. Temperate grasslands – flat and gentle slopes of hills. Savannas in Africa. Polar grasslands – found in arctic polar region – organism – arctic wolf, fox, etc. – Athick layer  of ice remains frozen under the soil surface throughout the year – known as permafrost. Dry summer fires do not allow shrubs and trees to grow – soil is quite fertile – cleaned for agriculture. Desert occupies about 35% of our world’s land area. It is characterised by less than 25 cm rainfall. The desert atmosphere is dry and hence it is a poor insulator. In deserts mostly Succulent (e.g., cacti) plants are found available. Most of the animals can extract water from the seeds they eat. Fresh water systems are classified as lentic and lotic ecosystems. Ponds are v ery often exposed to anthropo genic pressure like cloth washing, bathing, cattle bathing, swimming etc. Ponds Top layer – shallow, warm, prone to anthropogenic activities –                  Littoral Zone - Second layer – enough sunlight, high primary productivity –                 Limnetic zone Third layer – very poor or no sunlight –                  Profundal zone Eg. Dal lake in Srinagar, Naini lake in Nainital              ‘Lakes� Strea m organisms have to face extreme difference in climatic conditions but they do not suffer from oxygen deficiency as pond and lake organisms. This is because large surface area of running water provides more oxygen supply. The animals have very narrow range of tolerance towards oxygen deficiency. Thus stream are worst Two zones: coastal zone – warm, nutrient rich, shallow – high sunlight – high primary productivity. Oceans: Gigantic reservoirs of water covering >70% of earth surface – 2,50,000 species – huge variety of sea products Ocean Ecosystems occupy a large surface area with saline water & rich in biodiversity. Since ship, submarines can sail in ocean, commercial activities may be carried out. It moderates the temperature of the earth. Estuary: coastal area where river meet ocean – strongly affected by tidal actions. Tertiary Consumer – Eg. Cod, Haddock Biodiversity is the abbreviated word for “biological diversity” (bio - life or living organisms) Biomes can be considered life zones, environment with similar climatic, topographic and soil conditions. The biomes shelter an astounding variety of living organisms (from driest desert to dripping rainforest) There are 1.4 million species known presently. But taxonomists estimate there a re between 350 million different species may be alive today. Insects make up more than one half of all known species. Diversity within the species is genetic diversity. For example: teak wood varieties, Indian, Burma, Malaysians. Of the entire world species, only 10 -15% live in North America and Europe. The Malaysian Peninsula, for instance, has at least 8000 species of flowing plants, while Britain has only 1400 species. Biodiversity is vital for a healthy biosphere. It is the combination of different organisms that enables the biosphere to sustain human race. Living organisms provides many useful drugs and medicines. United Nations Development Programme derived from developing world plants, animals and microbes to be  more than $30 billion per year. Many plants are considered as the holy plants in our country. Examples: Tulsi, peepal, lotus, Human life is inextricably linked to ecological services provided by other organisms. Soilformation, waste dispo sal, air and water purification, solar energy absorption, nutrient cycling and food production all depend on biodiversity. High diversity may help biological communities to withstand environmental stress better. Habitat fragmentation: Habitat is divided into small & scattered. Deforestation: Forest & grasslands are cleared for agricultural lands or developmental projects. Wetlands are destroyed due to pollution, draining etc. Killing / Hunting of animals is poaching.Types: Subsistence Poaching - killing animals for surviving. Commercial Poaching- hunting animals for selling. Habitat fragmentation reduces the biodiversity because many animals like bears and large cats require large territories to subsist. Some forest birds reproduce only in deep forest or habitat far from human settlement. Shrinking of forest compels wildlife to move outside the forest. Electric wiring around crops around crops. Female wildlife attack human more to safe its cubs. The hot spots are the geographic areas which posses high endemic species. There are 25 Hotspots of biodiversity on worldwide. Out of which 2 are present in India. A species is said to be endangered when it’s no has been reduced to a critical level. Unless it is protected it is in danger of extinction. Vulnerable species is when its population is facing continuous decline due to habitat 62% of endemic species are found in Himalayas and Western Ghats. 2900 and other 900 endangered species are restricted for trade. 62% amphibians & 50% lizards are endemic to Western Ghats. Habitat loss, fragmentation, pollution are factors affecting endemic species. In-situ conservation: Conservation of species in its natural habitat, in place where the species normally occurs. The strategy involves establishing small or large protected areas, called protected areas. There are 9800 protected areas and 1500 national parks in world. 2. Wildlife Sanctuaries: Conserve animals & Birds only. 3. Biosphere reserves: Protects endangered species. National Park: Covers area of about 100 to 500 sq.kms. Wildlife Sanctuaries: Protects animals only Harvesting of timber, Collection of forest products. Restrictions: Killing, hunting, shooting of wildlife is prohibited. Conservation involves maintenance and breeding of endangered plant and animal species in zoos, gardens and laboratories. Cryo Technique: Preservation of seeds, vegetables, fruits, crops, etc by using liquid nitrogen at -196º C. NBAGR:National Burea of Animal Genetic Resources preserves semen of bovine animals. NFPRCR: National Facility for Plants Tissue Culture Repository. Any component of the environment, which has intrinsic value of its own is called as resource. Any component which can be transferred in a way such that it becomes more valuable and useful is termed asresource. Clean air, clean water are considered to be renewable. Around 1/3 rd of world land area was found to be forests. 1/5 th of world forests were found in Brazil and 6-7% was in Canada and USA. Forests provide timber, fire wood, food material, resin, gum, non edible oils, medicine, rubber, fibers, bamboo. Human beings depend heavily on forests for food, shelter, wood, fuel and medicine. Deforestation rate intemperate countries are relatively moderate. But  it is alarming in tropical countries. In next 60 years we would lose more than 90% of our tropical forest. We still have only 19.27% of our land area covered by forests. Shifting of cultivation – 300 million people – 5 lakh hectares of forest for slash and burn are major causes of deforestation. Mining is a process of removing ores from area which is very much below the ground level. Mining is done for the extraction of several minerals of metals like Fe, Mn, Au, Ag, etc. The minerals are especially found in thick forests. Forests hold more than 50 per cent of the carbon that is stored in terrestrial vegetation and soil. Deforestation contributes significantly to net emissions of carbon di oxide into the atmosphere. Under the Kyoto Protocol, a country with forests earns emission credits. River valley projects with big dams are considered to play a key role in the development of a country. credits are tradable, that is The environmental problems can be at upstream as well as downstream Level. India has large number of river valley projects. Around 97% of world surface is covered with water. Most of animals and plants have 60-65% of water in their body. 9.86% of fresh water is ground water and it is 35- 50% greater than surface water. 75% of the total available water is used for agriculture, 20% for industrial usage. Over utilization of ground water leads to rapid depletion of water, ground subsidence, lowering of water table and water logging. Economic development, rapid industrial growth and population explosion ultimately leads to over pumping. Clean water is universal right. It is the responsibility of everyone to en sure the purity of water. Water is a valuable commodity Dams and reservoirs can be constructed. Embankments and proper channel management should be used. Flood way should not be encroached. Forecasting or flood warning is important. Drought is when annual rainfall is below normal and less than evaporation drought is created. Drought causes hunger, malnutrition and scarcity of drinking water. It accelerates degradation of natural resources. Conflicts through use: Unequal distribution of water led to inter-state or international disputes. Construction of Dams/Power stations: For hydroelectric power generation, dams built across rivers initiates conflict between the states. Conflict through pollution: Rivers & Lakes are used for electricity, shipping & for industrial purpose. Rivers & Lakes are used for electricity, shipping & for industrial purpose. Disposal of waste water & industrial waste decrease the quality of water & causes pollution. Minerals are naturally occurring substances having definite chemical composition and physicalproperties. The Cauvery water dispute Tribunal set up on 2nd June 1990, directed Karnataka to ensure 205TMCF of water to Mettur dam. Economy and political power of the country is determined from the number of reserves of minerals and technical know-how to extract them. The important uses of minerals are as follows. Mining is the process of extraction of metals from a mineral deposit. Most important environmental concern arises from the extraction and processing of minerals. Mining is the process of extraction of raw materials from the near surface of the earth. It includes open-pit mining, underground mining and surface mining. World Food problems are caused by population explosion and environmental degradation. The main components of food are carbohydrates, fats, proteins, minerals and vitamins. Urbanisation is another problem in developing countries, which deteriorates the agricultural lands. Since the food grains like rice, wheat, com and the vegetable Overgrazing leads to organically poor, dry, compacted soil. The roots of plant cannot go much deep into the soil and adequate soil moisture is not available. Loss of useful species in agriculture. Most of the chemical fertilizers, used in modem agriculture, contain nitrogen, phosphorus and potassium, which are macronutrients. When excess of fertilizers are used in the fields, it causes micronutrient imbalance. When the nitrate concentration exceeds 25 mg / lit, they cause serious health problem called \"Blue Baby syndrome\" A large proportion of N and P fertilizers, used In crop field is washed off by the runoff water and reaches the water bodies causing over nourishment of the lake. This process is known as Eutrophication. Soil salinity is the salt content in the soil. Salts occur naturally within soils and water. Salination can be caused by natural processes or by the withdrawal of an ocean. The salt deposit is removed by flushing them out by applying more good quality water to such soils. Using sub-surface drainage system the Fossil fuels like coal, oil, natural gas produce 95% of energy. Solar, wind, hydropower, biomass, biofuel, geothermal, hydrogen are alternate energy sources. Solar energy: 35,000 times the energy used by man per year. Used to run car, power plants and spaceships. Energy that we get directly from the sun. Solar cells consist of a p-type semiconductor and n-type semi-conductor. When the solar rays fall on the top layer of a semiconductor, the electrons from the top band get promoted to the conduction band.Uses in calculators, electronic watches, street lights, radios and TVs. Solar water heaters, cookers require no fuels. They can absorb heat during the day time and release it slowly at night. Wind energy is harnessed by making use of wind mills. The strike of wind on the blades of the wind mill rotates it continuously Tidal energy can be harnessed by constructing a tidal barrage. Wind farms consists of large number of wind mills. No fuel is used & does not produce any wastes. The energy harnessed from high temperature & pressure present inside the earth is called Geo-thermal Energy. Ocean thermal energy (OTE) is used to generate electricity. Used for direct uses such as hot water bath, resorts, aquaculture, greenhouses. Power generation is higher than solar & wind Biomass is the organic matter, produced by plants or animals. It contains about 65% of methane gas as a major constituent. Biogas is obtained by the anaerobic fermentation of animal dung or plant wastes in the presence of water. Gasohol is a mixture of ethanol+gasoline. Coal is a solid fossil fuel formed in several stages & were subjected to intense heat and pressure over millions of years. It is non polluting, because the combustion product is water. The petroleum gas, converted into liquid under high pressure is LPG. LPG is colorless and odorless gas. During bottling some mercaptans is added, to detect leakage of LPG from the cylinder. Nuclear power of India is based on the use of 3 neutrons vs. neutrons. Land is critically important national resource. The soil profile of land determines its ability to serve socio-economic needs. More than 5000 million tonnes of top soil is eroded annually along About 38% of the area in India suffers from moderate to high degree of water based erosion. The Department of Land Resources was setup in April 1999 by ministry of Rural Development to act as nodal agency for land resource management. Landscapes generally undergo degradation but ar e usually compensated by nature’s inherent recovering ability. Slides due to natural factors and man induced landslides are two types of slides. Soil erosion is the process of removal of superficial layer of the soil from one place to another. Some of the human activities that cause land Soil erosion is mainly caused by man-made activities. The rate of erosion is much faster than the rate of formation of soil. Terracing reduces soil erosion on steep slopes by concerting the land into a series of broad, level terraces. Contour Farming: This method is adopted for gently sloped land. Alley Cropping or Agro forestry: In this method crops are planted together in strips or alleys between trees and shrubs that can provide fruits and fuel wood. Wind Breaks or Shelter Belts: Wind breaks and shelter belts or trees are established to reduce wind ierosion and also for retaining soil moisture. Around 80% of the productive land in the arid and semi-arid regions are converted into desert. Around 600 million people are threatened by desertification. Deforestation, over grazing, mining, pollution and climate change are all factors. Turn off lights, fans and other appliances when not in use. Dry the clothes in sun instead of drier. Grow trees and climbers near the houses and get a cool breeze and shade. Grow plants, trees & grass which bind the soil & prevent its erosion. Don’t irrigate the plants using strong flow of water, as it will wash Conservation of food resources: Eat minimum amount of food, avoid over eating. Conservation of forest: Use non-timber products. Grassing, fishing must be controlled. Unsustainable development is the degradation of the environment due to over utilization and overexploitation of the natural resources. The sustainability of the earth's life supporting system is under threat. The main cause is due to the difference between the less developed and more developed countries. Over population in poor countries, consume too low resources with low income. Rich countries should lower down their consumption levels, while the minimum needs of the poor should be fulfilled by providing them resources. More balanced and equitable use of resources will reduce the differences between the most developed countries\n"
          ]
        }
      ]
    }
  ]
}